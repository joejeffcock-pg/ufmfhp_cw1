{
 "cells": [
  {
   "cell_type": "code",
   "execution_count": 82,
   "metadata": {},
   "outputs": [
    {
     "data": {
      "text/plain": [
       "<BarContainer object of 15 artists>"
      ]
     },
     "execution_count": 82,
     "metadata": {},
     "output_type": "execute_result"
    },
    {
     "data": {
      "image/png": "[encoded data removed]",
      "text/plain": [
       "<Figure size 432x288 with 1 Axes>"
      ]
     },
     "metadata": {
      "needs_background": "light"
     },
     "output_type": "display_data"
    }
   ],
   "source": [
    "import pandas\n",
    "import matplotlib.pyplot as plt\n",
    "\n",
    "df = pandas.read_csv(\"./transcripts.csv\")\n",
    "df = df.loc[df[\"Include in data\"] == \"Yes\"]\n",
    "df = df[[\"Complexity\", \"Keyword\"]]\n",
    "df[\"Complexity\"] = df[\"Complexity\"].str.lower()\n",
    "plt.bar(df[\"Complexity\"], df[\"Keyword\"])"
   ]
  },
  {
   "cell_type": "code",
   "execution_count": 78,
   "metadata": {},
   "outputs": [
    {
     "data": {
      "text/plain": [
       "ShapiroResult(statistic=0.7664549350738525, pvalue=0.0014081521658226848)"
      ]
     },
     "execution_count": 78,
     "metadata": {},
     "output_type": "execute_result"
    }
   ],
   "source": [
    "from scipy.stats import shapiro\n",
    "shapiro(df[\"Keyword\"])"
   ]
  },
  {
   "cell_type": "code",
   "execution_count": 85,
   "metadata": {},
   "outputs": [
    {
     "data": {
      "text/plain": [
       "[   Complexity  Keyword\n",
       " 6        high      0.0\n",
       " 7        high      1.0\n",
       " 8        high      0.0\n",
       " 14       high      1.0\n",
       " 15       high      0.0,\n",
       "    Complexity  Keyword\n",
       " 2         low      1.0\n",
       " 5         low      0.0\n",
       " 9         low      1.0\n",
       " 10        low      4.0\n",
       " 11        low      2.0,\n",
       "    Complexity  Keyword\n",
       " 1      medium      3.0\n",
       " 4      medium      1.0\n",
       " 12     medium      0.0\n",
       " 13     medium      0.0\n",
       " 16     medium      0.0]"
      ]
     },
     "execution_count": 85,
     "metadata": {},
     "output_type": "execute_result"
    }
   ],
   "source": [
    "complexity = df.groupby(\"Complexity\")\n",
    "groups = [complexity.get_group(group) for group in complexity.groups]\n",
    "groups"
   ]
  },
  {
   "cell_type": "code",
   "execution_count": 91,
   "metadata": {},
   "outputs": [
    {
     "data": {
      "text/plain": [
       "KruskalResult(statistic=2.5917355371900848, pvalue=0.2736602874623109)"
      ]
     },
     "execution_count": 91,
     "metadata": {},
     "output_type": "execute_result"
    }
   ],
   "source": [
    "from scipy.stats import kruskal\n",
    "kruskal(groups[0][\"Keyword\"], groups[1][\"Keyword\"], groups[2][\"Keyword\"])"
   ]
  },
  {
   "cell_type": "code",
   "execution_count": null,
   "metadata": {},
   "outputs": [],
   "source": []
  }
 ],
 "metadata": {
  "interpreter": {
   "hash": "683f046b3958b8dcd4d6c96d8a9fbe3126ce4baac5a1987e68228f501cc42547"
  },
  "kernelspec": {
   "display_name": "Python 3.8.10 ('intro_ai')",
   "language": "python",
   "name": "python3"
  },
  "language_info": {
   "codemirror_mode": {
    "name": "ipython",
    "version": 3
   },
   "file_extension": ".py",
   "mimetype": "text/x-python",
   "name": "python",
   "nbconvert_exporter": "python",
   "pygments_lexer": "ipython3",
   "version": "3.8.10"
  },
  "orig_nbformat": 4
 },
 "nbformat": 4,
 "nbformat_minor": 2
}
